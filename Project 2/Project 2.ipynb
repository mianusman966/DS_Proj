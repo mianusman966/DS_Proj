{
 "cells": [
  {
   "cell_type": "markdown",
   "metadata": {},
   "source": [
    "# Exploring Hacker News Posts"
   ]
  },
  {
   "cell_type": "markdown",
   "metadata": {},
   "source": [
    "In this project we're specifically interested in posts whose titles begin with either Ask HN or Show HN. \n",
    "\n",
    "* Users submit Ask HN posts to ask the Hacker News community a specific question.\n",
    "* Users submit Show HN posts to show the Hacker News community a project, product, or just generally something interesting. "
   ]
  },
  {
   "cell_type": "markdown",
   "metadata": {},
   "source": [
    "We will analyze which type of post and time receive the most comments on average i.e we need to advise on best hour to maximize the amount of comments a post receives"
   ]
  },
  {
   "cell_type": "markdown",
   "metadata": {},
   "source": [
    "Our aim is to compare these two types of posts to determine the following:\n",
    "\n",
    "1. Do Ask HN or Show HN receive more comments on average?\n",
    "2. Do posts created at a certain time receive more comments on average?"
   ]
  },
  {
   "cell_type": "code",
   "execution_count": 1,
   "metadata": {},
   "outputs": [],
   "source": [
    "from csv import reader"
   ]
  },
  {
   "cell_type": "code",
   "execution_count": 2,
   "metadata": {},
   "outputs": [],
   "source": [
    "# f = open(\"hacker_news.csv\")\n",
    "# read = reader(f)\n",
    "# hn = list(read)\n",
    "# f.close()\n",
    "\n",
    "with open(\"hacker_news.csv\") as f:\n",
    "    read = reader(f)\n",
    "    hn = list(read)"
   ]
  },
  {
   "cell_type": "code",
   "execution_count": 3,
   "metadata": {},
   "outputs": [
    {
     "data": {
      "text/plain": [
       "['id', 'title', 'url', 'num_points', 'num_comments', 'author', 'created_at']"
      ]
     },
     "execution_count": 3,
     "metadata": {},
     "output_type": "execute_result"
    }
   ],
   "source": [
    "header = hn[0]\n",
    "header"
   ]
  },
  {
   "cell_type": "code",
   "execution_count": 4,
   "metadata": {},
   "outputs": [],
   "source": [
    "hn = hn[1:]"
   ]
  },
  {
   "cell_type": "code",
   "execution_count": 5,
   "metadata": {},
   "outputs": [],
   "source": [
    "# print(hn[:10])"
   ]
  },
  {
   "cell_type": "code",
   "execution_count": 6,
   "metadata": {},
   "outputs": [],
   "source": [
    "import datetime as dt"
   ]
  },
  {
   "cell_type": "code",
   "execution_count": 7,
   "metadata": {},
   "outputs": [],
   "source": [
    "date_format = \"%m/%d/%Y %H:%M\"\n",
    "\n",
    "for i in hn:\n",
    "    i[-1] = dt.datetime.strptime(i[-1], date_format)"
   ]
  },
  {
   "cell_type": "code",
   "execution_count": 8,
   "metadata": {},
   "outputs": [],
   "source": [
    "ask_posts = []\n",
    "show_posts = []\n",
    "# other_posts = []\n",
    "\n",
    "for i in hn:\n",
    "    title = i[1]\n",
    "    if title.upper().startswith(\"ASK HN\"):\n",
    "        ask_posts.append(i)\n",
    "    elif title.upper().startswith(\"SHOW HN\"):\n",
    "        show_posts.append(i)"
   ]
  },
  {
   "cell_type": "code",
   "execution_count": 9,
   "metadata": {},
   "outputs": [
    {
     "name": "stdout",
     "output_type": "stream",
     "text": [
      "[['12296411', 'Ask HN: How to improve my personal website?', '', '2', '6', 'ahmedbaracat', datetime.datetime(2016, 8, 16, 9, 55)], ['10610020', 'Ask HN: Am I the only one outraged by Twitter shutting down share counts?', '', '28', '29', 'tkfx', datetime.datetime(2015, 11, 22, 13, 43)], ['11610310', 'Ask HN: Aby recent changes to CSS that broke mobile?', '', '1', '1', 'polskibus', datetime.datetime(2016, 5, 2, 10, 14)], ['12210105', 'Ask HN: Looking for Employee #3 How do I do it?', '', '1', '3', 'sph130', datetime.datetime(2016, 8, 2, 14, 20)], ['10394168', 'Ask HN: Someone offered to buy my browser extension from me. What now?', '', '28', '17', 'roykolak', datetime.datetime(2015, 10, 15, 16, 38)]]\n"
     ]
    }
   ],
   "source": [
    "print(ask_posts[:5])"
   ]
  },
  {
   "cell_type": "code",
   "execution_count": 10,
   "metadata": {},
   "outputs": [
    {
     "name": "stdout",
     "output_type": "stream",
     "text": [
      "[['10627194', 'Show HN: Wio Link  ESP8266 Based Web of Things Hardware Development Platform', 'https://iot.seeed.cc', '26', '22', 'kfihihc', datetime.datetime(2015, 11, 25, 14, 3)], ['10646440', 'Show HN: Something pointless I made', 'http://dn.ht/picklecat/', '747', '102', 'dhotson', datetime.datetime(2015, 11, 29, 22, 46)], ['11590768', 'Show HN: Shanhu.io, a programming playground powered by e8vm', 'https://shanhu.io', '1', '1', 'h8liu', datetime.datetime(2016, 4, 28, 18, 5)]]\n"
     ]
    }
   ],
   "source": [
    "print(show_posts[:3])"
   ]
  },
  {
   "cell_type": "code",
   "execution_count": 11,
   "metadata": {},
   "outputs": [
    {
     "name": "stdout",
     "output_type": "stream",
     "text": [
      "20100\n",
      "1744\n",
      "1162\n"
     ]
    }
   ],
   "source": [
    "print(len(hn))\n",
    "print(len(ask_posts))\n",
    "print(len(show_posts))"
   ]
  },
  {
   "cell_type": "code",
   "execution_count": 12,
   "metadata": {},
   "outputs": [
    {
     "data": {
      "text/plain": [
       "14.038417431192661"
      ]
     },
     "execution_count": 12,
     "metadata": {},
     "output_type": "execute_result"
    }
   ],
   "source": [
    "# average comments on ask hn\n",
    "\n",
    "total_num_comments = 0\n",
    "total_ask_post =1744  # or len(ask_posts)\n",
    "\n",
    "for i in ask_posts:\n",
    "    comments = int(i[4])\n",
    "    total_num_comments += comments\n",
    "    \n",
    "avg_comments_ask_posts = total_num_comments/total_ask_post\n",
    "avg_comments_ask_posts"
   ]
  },
  {
   "cell_type": "code",
   "execution_count": 13,
   "metadata": {},
   "outputs": [
    {
     "data": {
      "text/plain": [
       "10.31669535283993"
      ]
     },
     "execution_count": 13,
     "metadata": {},
     "output_type": "execute_result"
    }
   ],
   "source": [
    "# average comments on show hn\n",
    "\n",
    "total_num_comments = 0\n",
    "total_hn_post = 0  # or len(show_posts)\n",
    "\n",
    "for i in show_posts:\n",
    "    total_hn_post += 1\n",
    "    comments = int(i[4])\n",
    "    total_num_comments += comments\n",
    "    \n",
    "avg_comments_show_posts = total_num_comments/total_hn_post\n",
    "avg_comments_show_posts"
   ]
  },
  {
   "cell_type": "code",
   "execution_count": 14,
   "metadata": {},
   "outputs": [
    {
     "data": {
      "text/plain": [
       "18"
      ]
     },
     "execution_count": 14,
     "metadata": {},
     "output_type": "execute_result"
    }
   ],
   "source": [
    "hn[10][-1].hour"
   ]
  },
  {
   "cell_type": "code",
   "execution_count": 15,
   "metadata": {},
   "outputs": [],
   "source": [
    "counts_by_hour = {}\n",
    "comments_by_hour = {}\n",
    "\n",
    "for i in ask_posts:\n",
    "    hour = i[-1].hour\n",
    "    comments = int(i[4])\n",
    "    if hour not in counts_by_hour: # (counts_by_hour and comments_by_hour)\n",
    "        counts_by_hour[hour] = 1\n",
    "        comments_by_hour[hour] = comments\n",
    "    else:\n",
    "        counts_by_hour[hour] += 1\n",
    "        comments_by_hour[hour] += comments\n",
    "    "
   ]
  },
  {
   "cell_type": "code",
   "execution_count": 16,
   "metadata": {},
   "outputs": [
    {
     "name": "stdout",
     "output_type": "stream",
     "text": [
      "{9: 45, 13: 85, 10: 59, 14: 107, 16: 108, 23: 68, 12: 73, 17: 100, 15: 116, 21: 109, 20: 80, 2: 58, 18: 109, 3: 54, 5: 46, 19: 110, 1: 60, 22: 71, 8: 48, 4: 47, 0: 55, 6: 44, 7: 34, 11: 58}\n"
     ]
    }
   ],
   "source": [
    "print(counts_by_hour)"
   ]
  },
  {
   "cell_type": "code",
   "execution_count": 17,
   "metadata": {},
   "outputs": [
    {
     "name": "stdout",
     "output_type": "stream",
     "text": [
      "{9: 251, 13: 1253, 10: 793, 14: 1416, 16: 1814, 23: 543, 12: 687, 17: 1146, 15: 4477, 21: 1745, 20: 1722, 2: 1381, 18: 1439, 3: 421, 5: 464, 19: 1188, 1: 683, 22: 479, 8: 492, 4: 337, 0: 447, 6: 397, 7: 267, 11: 641}\n"
     ]
    }
   ],
   "source": [
    "print(comments_by_hour)"
   ]
  },
  {
   "cell_type": "code",
   "execution_count": 18,
   "metadata": {},
   "outputs": [],
   "source": [
    "avg_comments_by_hour = {}\n",
    "\n",
    "for hour in counts_by_hour:\n",
    "    # print(i)\n",
    "    no_of_posts = counts_by_hour[hour]\n",
    "    no_of_comments = comments_by_hour[hour]\n",
    "    avg = no_of_comments/no_of_posts\n",
    "    avg_comments_by_hour[hour] = round(avg,2)"
   ]
  },
  {
   "cell_type": "code",
   "execution_count": 19,
   "metadata": {},
   "outputs": [
    {
     "name": "stdout",
     "output_type": "stream",
     "text": [
      "{9: 5.58, 13: 14.74, 10: 13.44, 14: 13.23, 16: 16.8, 23: 7.99, 12: 9.41, 17: 11.46, 15: 38.59, 21: 16.01, 20: 21.52, 2: 23.81, 18: 13.2, 3: 7.8, 5: 10.09, 19: 10.8, 1: 11.38, 22: 6.75, 8: 10.25, 4: 7.17, 0: 8.13, 6: 9.02, 7: 7.85, 11: 11.05}\n"
     ]
    }
   ],
   "source": [
    "print(avg_comments_by_hour)"
   ]
  },
  {
   "cell_type": "code",
   "execution_count": 20,
   "metadata": {},
   "outputs": [],
   "source": [
    "# sorted(avg_comments_by_hour, key =avg_comments_by_hour.get, reverse = True)"
   ]
  },
  {
   "cell_type": "code",
   "execution_count": 21,
   "metadata": {},
   "outputs": [],
   "source": [
    "avg_comments_by_hour = []\n",
    "\n",
    "for hour in counts_by_hour:\n",
    "    # print(i)\n",
    "    no_of_posts = counts_by_hour[hour]\n",
    "    no_of_comments = comments_by_hour[hour]\n",
    "    avg = no_of_comments/no_of_posts\n",
    "    avg_comments_by_hour.append([hour,round(avg,2)])"
   ]
  },
  {
   "cell_type": "code",
   "execution_count": 22,
   "metadata": {},
   "outputs": [
    {
     "data": {
      "text/plain": [
       "[[15, 38.59],\n",
       " [2, 23.81],\n",
       " [20, 21.52],\n",
       " [16, 16.8],\n",
       " [21, 16.01],\n",
       " [13, 14.74],\n",
       " [10, 13.44],\n",
       " [14, 13.23],\n",
       " [18, 13.2],\n",
       " [17, 11.46],\n",
       " [1, 11.38],\n",
       " [11, 11.05],\n",
       " [19, 10.8],\n",
       " [8, 10.25],\n",
       " [5, 10.09],\n",
       " [12, 9.41],\n",
       " [6, 9.02],\n",
       " [0, 8.13],\n",
       " [23, 7.99],\n",
       " [7, 7.85],\n",
       " [3, 7.8],\n",
       " [4, 7.17],\n",
       " [22, 6.75],\n",
       " [9, 5.58]]"
      ]
     },
     "execution_count": 22,
     "metadata": {},
     "output_type": "execute_result"
    }
   ],
   "source": [
    "sort_by_avg_comments =sorted(avg_comments_by_hour, key = lambda lst:lst[1],\n",
    "                            reverse = True)\n",
    "sort_by_avg_comments"
   ]
  },
  {
   "cell_type": "code",
   "execution_count": 23,
   "metadata": {},
   "outputs": [],
   "source": [
    "def sorting(lst):\n",
    "    return lst[1]"
   ]
  },
  {
   "cell_type": "code",
   "execution_count": 24,
   "metadata": {},
   "outputs": [],
   "source": [
    "# sort_by_avg_comments =sorted(avg_comments_by_hour, key = sorting,\n",
    "#                             reverse = True)\n",
    "# sort_by_avg_comments"
   ]
  },
  {
   "cell_type": "code",
   "execution_count": 25,
   "metadata": {},
   "outputs": [
    {
     "name": "stdout",
     "output_type": "stream",
     "text": [
      "There are 38.59 average comments at 15:00 hours\n",
      "There are 23.81 average comments at 02:00 hours\n",
      "There are 21.52 average comments at 20:00 hours\n"
     ]
    }
   ],
   "source": [
    "# top 3 hours\n",
    "\n",
    "for hour, avg_comm in sort_by_avg_comments[:3]:\n",
    "    hour = dt.datetime.strptime(str(hour), \"%H\")\n",
    "    hour = hour.strftime(\"%H:%M\")\n",
    "#     print(\"There are {0} average comments at {1} hours\".format(avg_comm,hour))\n",
    "#     print(\"There are {0} average comments at {1} hours {1}\".format(avg_comm,hour))\n",
    "    print(\"There are {} average comments at {} hours\".format(avg_comm,hour))"
   ]
  },
  {
   "cell_type": "code",
   "execution_count": 26,
   "metadata": {},
   "outputs": [
    {
     "name": "stdout",
     "output_type": "stream",
     "text": [
      "There are 38.59 average comments at 15:00 hours\n",
      "There are 23.81 average comments at 02:00 hours\n",
      "There are 21.52 average comments at 20:00 hours\n"
     ]
    }
   ],
   "source": [
    "# top 3 hours\n",
    "\n",
    "for hour, avg_comm in sort_by_avg_comments[:3]:\n",
    "    hour = dt.datetime.strptime(str(hour), \"%H\")\n",
    "    hour = hour.strftime(\"%H:%M\")\n",
    "    print(f\"There are {avg_comm} average comments at {hour} hours\")"
   ]
  },
  {
   "cell_type": "code",
   "execution_count": 27,
   "metadata": {},
   "outputs": [
    {
     "data": {
      "text/plain": [
       "'62.07475850482993%'"
      ]
     },
     "execution_count": 27,
     "metadata": {},
     "output_type": "execute_result"
    }
   ],
   "source": [
    "str((38.59-23.81)/23.81*100) + \"%\""
   ]
  },
  {
   "cell_type": "markdown",
   "metadata": {},
   "source": [
    "# Analysis show_posts"
   ]
  },
  {
   "cell_type": "code",
   "execution_count": 33,
   "metadata": {},
   "outputs": [
    {
     "name": "stdout",
     "output_type": "stream",
     "text": [
      "[['10627194', 'Show HN: Wio Link  ESP8266 Based Web of Things Hardware Development Platform', 'https://iot.seeed.cc', '26', '22', 'kfihihc', datetime.datetime(2015, 11, 25, 14, 3)]]\n"
     ]
    }
   ],
   "source": [
    "print(show_posts[:1])"
   ]
  },
  {
   "cell_type": "code",
   "execution_count": 63,
   "metadata": {},
   "outputs": [
    {
     "data": {
      "text/plain": [
       "10.317"
      ]
     },
     "execution_count": 63,
     "metadata": {},
     "output_type": "execute_result"
    }
   ],
   "source": [
    "# average comments on show hn\n",
    "total_numb_cmt_shn = 0\n",
    "total_show_posts = len(show_posts)\n",
    "for i in show_posts:\n",
    "    show_comments = int(i[4])\n",
    "    total_numb_cmt_shn += show_comments\n",
    "    \n",
    "avg_show_comment = total_numb_cmt_shn/total_show_posts\n",
    "round(avg_show_comment,3)"
   ]
  },
  {
   "cell_type": "code",
   "execution_count": 32,
   "metadata": {},
   "outputs": [
    {
     "data": {
      "text/plain": [
       "19"
      ]
     },
     "execution_count": 32,
     "metadata": {},
     "output_type": "execute_result"
    }
   ],
   "source": [
    "hn[1][-1].hour"
   ]
  },
  {
   "cell_type": "code",
   "execution_count": 39,
   "metadata": {},
   "outputs": [],
   "source": [
    "count_shn_by_hour = {}\n",
    "comment_shn_by_hour = {}\n",
    "for i in show_posts:\n",
    "    hour = i[-1].hour\n",
    "    comment = int(i[4])\n",
    "    if hour not in count_shn_by_hour:\n",
    "        count_shn_by_hour[hour] = 1\n",
    "        comment_shn_by_hour[hour] = comment\n",
    "    else:\n",
    "        count_shn_by_hour[hour] += 1\n",
    "        comment_shn_by_hour[hour] += comment"
   ]
  },
  {
   "cell_type": "code",
   "execution_count": 40,
   "metadata": {},
   "outputs": [
    {
     "name": "stdout",
     "output_type": "stream",
     "text": [
      "{14: 86, 22: 46, 18: 61, 7: 26, 20: 60, 5: 19, 16: 93, 19: 55, 15: 78, 3: 27, 17: 93, 6: 16, 2: 30, 13: 99, 8: 34, 21: 47, 4: 26, 11: 44, 12: 61, 23: 36, 9: 30, 1: 28, 10: 36, 0: 31}\n"
     ]
    }
   ],
   "source": [
    "print(count_shn_by_hour)"
   ]
  },
  {
   "cell_type": "code",
   "execution_count": 41,
   "metadata": {},
   "outputs": [
    {
     "name": "stdout",
     "output_type": "stream",
     "text": [
      "{14: 1156, 22: 570, 18: 962, 7: 299, 20: 612, 5: 58, 16: 1084, 19: 539, 15: 632, 3: 287, 17: 911, 6: 142, 2: 127, 13: 946, 8: 165, 21: 272, 4: 247, 11: 491, 12: 720, 23: 447, 9: 291, 1: 246, 10: 297, 0: 487}\n"
     ]
    }
   ],
   "source": [
    "print(comment_shn_by_hour)"
   ]
  },
  {
   "cell_type": "code",
   "execution_count": 46,
   "metadata": {},
   "outputs": [],
   "source": [
    "avg_shn_comment_by_hour = {}\n",
    "for hour in count_shn_by_hour:\n",
    "    no_of_shn_posts = count_shn_by_hour[hour]\n",
    "    no_of_shn_comment = comment_shn_by_hour[hour]\n",
    "    avg = no_of_shn_comment/no_of_shn_posts\n",
    "    avg_shn_comment_by_hour[hour] = round(avg,2)"
   ]
  },
  {
   "cell_type": "code",
   "execution_count": 47,
   "metadata": {},
   "outputs": [
    {
     "name": "stdout",
     "output_type": "stream",
     "text": [
      "{14: 13.44, 22: 12.39, 18: 15.77, 7: 11.5, 20: 10.2, 5: 3.05, 16: 11.66, 19: 9.8, 15: 8.1, 3: 10.63, 17: 9.8, 6: 8.88, 2: 4.23, 13: 9.56, 8: 4.85, 21: 5.79, 4: 9.5, 11: 11.16, 12: 11.8, 23: 12.42, 9: 9.7, 1: 8.79, 10: 8.25, 0: 15.71}\n"
     ]
    }
   ],
   "source": [
    "print(avg_shn_comment_by_hour)"
   ]
  },
  {
   "cell_type": "code",
   "execution_count": 48,
   "metadata": {},
   "outputs": [],
   "source": [
    "avg_shn_comment_by_hour = []\n",
    "for hour in count_shn_by_hour:\n",
    "    no_of_shn_posts = count_shn_by_hour[hour]\n",
    "    no_of_shn_comment = comment_shn_by_hour[hour]\n",
    "    avg = no_of_shn_comment/no_of_shn_posts\n",
    "    avg_shn_comment_by_hour.append([hour,round(avg,2)])"
   ]
  },
  {
   "cell_type": "code",
   "execution_count": 49,
   "metadata": {},
   "outputs": [
    {
     "name": "stdout",
     "output_type": "stream",
     "text": [
      "[[14, 13.44], [22, 12.39], [18, 15.77], [7, 11.5], [20, 10.2], [5, 3.05], [16, 11.66], [19, 9.8], [15, 8.1], [3, 10.63], [17, 9.8], [6, 8.88], [2, 4.23], [13, 9.56], [8, 4.85], [21, 5.79], [4, 9.5], [11, 11.16], [12, 11.8], [23, 12.42], [9, 9.7], [1, 8.79], [10, 8.25], [0, 15.71]]\n"
     ]
    }
   ],
   "source": [
    "print(avg_shn_comment_by_hour)"
   ]
  },
  {
   "cell_type": "code",
   "execution_count": 50,
   "metadata": {},
   "outputs": [],
   "source": [
    "def sorting(lst):\n",
    "    return lst[1]"
   ]
  },
  {
   "cell_type": "code",
   "execution_count": 68,
   "metadata": {},
   "outputs": [],
   "source": [
    "#sort_shn_by_avg_comments =sorted(avg_shn_comment_by_hour, key = sorting,reverse = True)\n",
    "sort_shn_by_avg_comments =sorted(avg_shn_comment_by_hour, key = lambda lst:lst[1],reverse = True)"
   ]
  },
  {
   "cell_type": "code",
   "execution_count": 69,
   "metadata": {},
   "outputs": [
    {
     "data": {
      "text/plain": [
       "[[18, 15.77],\n",
       " [0, 15.71],\n",
       " [14, 13.44],\n",
       " [23, 12.42],\n",
       " [22, 12.39],\n",
       " [12, 11.8],\n",
       " [16, 11.66],\n",
       " [7, 11.5],\n",
       " [11, 11.16],\n",
       " [3, 10.63],\n",
       " [20, 10.2],\n",
       " [19, 9.8],\n",
       " [17, 9.8],\n",
       " [9, 9.7],\n",
       " [13, 9.56],\n",
       " [4, 9.5],\n",
       " [6, 8.88],\n",
       " [1, 8.79],\n",
       " [10, 8.25],\n",
       " [15, 8.1],\n",
       " [21, 5.79],\n",
       " [8, 4.85],\n",
       " [2, 4.23],\n",
       " [5, 3.05]]"
      ]
     },
     "execution_count": 69,
     "metadata": {},
     "output_type": "execute_result"
    }
   ],
   "source": [
    "sort_shn_by_avg_comments"
   ]
  },
  {
   "cell_type": "code",
   "execution_count": 70,
   "metadata": {},
   "outputs": [
    {
     "name": "stdout",
     "output_type": "stream",
     "text": [
      "Ther are 15.77 average comments at 18:00 Hours\n",
      "Ther are 15.71 average comments at 00:00 Hours\n",
      "Ther are 13.44 average comments at 14:00 Hours\n",
      "Ther are 12.42 average comments at 23:00 Hours\n",
      "Ther are 12.39 average comments at 22:00 Hours\n"
     ]
    }
   ],
   "source": [
    "# top 5 Hour\n",
    "for hour,avg_comm in sort_shn_by_avg_comments[:5]:\n",
    "    hour = dt.datetime.strptime(str(hour), \"%H\")\n",
    "    hour = hour.strftime(\"%H:%M\")\n",
    "    print(f\"Ther are {avg_comm} average comments at {hour} Hours\")"
   ]
  },
  {
   "cell_type": "code",
   "execution_count": 71,
   "metadata": {},
   "outputs": [
    {
     "name": "stdout",
     "output_type": "stream",
     "text": [
      "{9: 45, 13: 85, 10: 59, 14: 107, 16: 108, 23: 68, 12: 73, 17: 100, 15: 116, 21: 109, 20: 80, 2: 58, 18: 109, 3: 54, 5: 46, 19: 110, 1: 60, 22: 71, 8: 48, 4: 47, 0: 55, 6: 44, 7: 34, 11: 58}\n"
     ]
    }
   ],
   "source": [
    "print(counts_by_hour)"
   ]
  },
  {
   "cell_type": "code",
   "execution_count": null,
   "metadata": {},
   "outputs": [],
   "source": []
  }
 ],
 "metadata": {
  "kernelspec": {
   "display_name": "Python 3",
   "language": "python",
   "name": "python3"
  },
  "language_info": {
   "codemirror_mode": {
    "name": "ipython",
    "version": 3
   },
   "file_extension": ".py",
   "mimetype": "text/x-python",
   "name": "python",
   "nbconvert_exporter": "python",
   "pygments_lexer": "ipython3",
   "version": "3.7.4"
  }
 },
 "nbformat": 4,
 "nbformat_minor": 2
}
