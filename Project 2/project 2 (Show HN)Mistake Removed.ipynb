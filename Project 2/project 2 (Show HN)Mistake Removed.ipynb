{
 "cells": [
  {
   "cell_type": "code",
   "execution_count": 1,
   "metadata": {},
   "outputs": [],
   "source": [
    "from csv import reader\n",
    "import datetime as dt"
   ]
  },
  {
   "cell_type": "code",
   "execution_count": 2,
   "metadata": {},
   "outputs": [],
   "source": [
    "with open(\"hacker_news.csv\")as f:\n",
    "    read=reader(f)\n",
    "    hn=list(read)"
   ]
  },
  {
   "cell_type": "code",
   "execution_count": 3,
   "metadata": {},
   "outputs": [],
   "source": [
    "date_format = \"%Y %m % %d %H:%M\""
   ]
  },
  {
   "cell_type": "code",
   "execution_count": 4,
   "metadata": {},
   "outputs": [],
   "source": [
    "header = hn[0]"
   ]
  },
  {
   "cell_type": "code",
   "execution_count": 5,
   "metadata": {},
   "outputs": [],
   "source": [
    "hn = hn[1:]"
   ]
  },
  {
   "cell_type": "code",
   "execution_count": 6,
   "metadata": {},
   "outputs": [],
   "source": [
    "date_format = \"%m/%d/%Y %H:%M\"\n",
    "for i in hn:\n",
    "    i[-1] = dt.datetime.strptime(i[-1],date_format)"
   ]
  },
  {
   "cell_type": "code",
   "execution_count": 7,
   "metadata": {},
   "outputs": [],
   "source": [
    "show_post = []\n",
    "for i in hn:\n",
    "    tittle = i[1]\n",
    "    #print(tittle)\n",
    "    if tittle.upper().startswith(\"SHOW HN\"):\n",
    "        show_post.append(i)"
   ]
  },
  {
   "cell_type": "code",
   "execution_count": 8,
   "metadata": {},
   "outputs": [
    {
     "name": "stdout",
     "output_type": "stream",
     "text": [
      "1162\n",
      "20100\n"
     ]
    }
   ],
   "source": [
    "print(len(show_post))\n",
    "print(len(hn))"
   ]
  },
  {
   "cell_type": "code",
   "execution_count": 9,
   "metadata": {},
   "outputs": [],
   "source": [
    "total_showHN_comments = 0\n",
    "total_hn_comments = 0\n",
    "for i in show_post:\n",
    "    total_showHN_comments+=1\n",
    "    comment= int(i[4])\n",
    "    #print(comment)\n",
    "    total_hn_comments +=comment"
   ]
  },
  {
   "cell_type": "code",
   "execution_count": 10,
   "metadata": {},
   "outputs": [
    {
     "data": {
      "text/plain": [
       "10.317"
      ]
     },
     "execution_count": 10,
     "metadata": {},
     "output_type": "execute_result"
    }
   ],
   "source": [
    "avg_show_comm = total_hn_comments/total_showHN_comments\n",
    "round(avg_show_comm,3)"
   ]
  },
  {
   "cell_type": "code",
   "execution_count": 11,
   "metadata": {},
   "outputs": [],
   "source": [
    "comment_by_hour = {}\n",
    "count_by_hour = {}\n",
    "for i in show_post:\n",
    "    comments = int(i[4])\n",
    "    hour = i[-1].hour\n",
    "    if hour not in count_by_hour:\n",
    "        comment_by_hour[hour] = comments\n",
    "        count_by_hour[hour] = 1\n",
    "    else:\n",
    "        comment_by_hour[hour] += comments\n",
    "        count_by_hour[hour] += 1"
   ]
  },
  {
   "cell_type": "code",
   "execution_count": 12,
   "metadata": {},
   "outputs": [
    {
     "name": "stdout",
     "output_type": "stream",
     "text": [
      "{14: 1156, 22: 570, 18: 962, 7: 299, 20: 612, 5: 58, 16: 1084, 19: 539, 15: 632, 3: 287, 17: 911, 6: 142, 2: 127, 13: 946, 8: 165, 21: 272, 4: 247, 11: 491, 12: 720, 23: 447, 9: 291, 1: 246, 10: 297, 0: 487}\n"
     ]
    }
   ],
   "source": [
    "print(comment_by_hour)"
   ]
  },
  {
   "cell_type": "code",
   "execution_count": 13,
   "metadata": {},
   "outputs": [
    {
     "name": "stdout",
     "output_type": "stream",
     "text": [
      "{14: 86, 22: 46, 18: 61, 7: 26, 20: 60, 5: 19, 16: 93, 19: 55, 15: 78, 3: 27, 17: 93, 6: 16, 2: 30, 13: 99, 8: 34, 21: 47, 4: 26, 11: 44, 12: 61, 23: 36, 9: 30, 1: 28, 10: 36, 0: 31}\n"
     ]
    }
   ],
   "source": [
    "print(count_by_hour)"
   ]
  },
  {
   "cell_type": "code",
   "execution_count": 14,
   "metadata": {},
   "outputs": [
    {
     "name": "stdout",
     "output_type": "stream",
     "text": [
      "13.44186046511628\n",
      "12.391304347826088\n",
      "15.770491803278688\n",
      "11.5\n",
      "10.2\n",
      "3.0526315789473686\n",
      "11.655913978494624\n",
      "9.8\n",
      "8.102564102564102\n",
      "10.62962962962963\n",
      "9.795698924731182\n",
      "8.875\n",
      "4.233333333333333\n",
      "9.555555555555555\n",
      "4.852941176470588\n",
      "5.787234042553192\n",
      "9.5\n",
      "11.159090909090908\n",
      "11.80327868852459\n",
      "12.416666666666666\n",
      "9.7\n",
      "8.785714285714286\n",
      "8.25\n",
      "15.709677419354838\n"
     ]
    }
   ],
   "source": [
    "avg_comments_by_hour = []\n",
    "\n",
    "for hour in count_by_hour:\n",
    "    no_of_posts = count_by_hour[hour]\n",
    "    no_of_comments = comment_by_hour[hour]\n",
    "#     print(no_of_comments)\n",
    "#     print(no_of_posts)\n",
    "    average = no_of_comments/no_of_posts\n",
    "    print(average)\n",
    "    avg_comments_by_hour.append([hour,round(average,5)])"
   ]
  },
  {
   "cell_type": "code",
   "execution_count": 15,
   "metadata": {},
   "outputs": [
    {
     "name": "stdout",
     "output_type": "stream",
     "text": [
      "24\n",
      "24\n"
     ]
    }
   ],
   "source": [
    "print(len(count_by_hour))\n",
    "print(len(comment_by_hour))"
   ]
  },
  {
   "cell_type": "code",
   "execution_count": 16,
   "metadata": {},
   "outputs": [
    {
     "data": {
      "text/plain": [
       "[[14, 13.44186],\n",
       " [22, 12.3913],\n",
       " [18, 15.77049],\n",
       " [7, 11.5],\n",
       " [20, 10.2],\n",
       " [5, 3.05263],\n",
       " [16, 11.65591],\n",
       " [19, 9.8],\n",
       " [15, 8.10256],\n",
       " [3, 10.62963],\n",
       " [17, 9.7957],\n",
       " [6, 8.875],\n",
       " [2, 4.23333],\n",
       " [13, 9.55556],\n",
       " [8, 4.85294],\n",
       " [21, 5.78723],\n",
       " [4, 9.5],\n",
       " [11, 11.15909],\n",
       " [12, 11.80328],\n",
       " [23, 12.41667],\n",
       " [9, 9.7],\n",
       " [1, 8.78571],\n",
       " [10, 8.25],\n",
       " [0, 15.70968]]"
      ]
     },
     "execution_count": 16,
     "metadata": {},
     "output_type": "execute_result"
    }
   ],
   "source": [
    "avg_comments_by_hour"
   ]
  },
  {
   "cell_type": "code",
   "execution_count": null,
   "metadata": {},
   "outputs": [],
   "source": []
  },
  {
   "cell_type": "code",
   "execution_count": 17,
   "metadata": {},
   "outputs": [
    {
     "data": {
      "text/plain": [
       "[[18, 15.77049],\n",
       " [0, 15.70968],\n",
       " [14, 13.44186],\n",
       " [23, 12.41667],\n",
       " [22, 12.3913],\n",
       " [12, 11.80328],\n",
       " [16, 11.65591],\n",
       " [7, 11.5],\n",
       " [11, 11.15909],\n",
       " [3, 10.62963],\n",
       " [20, 10.2],\n",
       " [19, 9.8],\n",
       " [17, 9.7957],\n",
       " [9, 9.7],\n",
       " [13, 9.55556],\n",
       " [4, 9.5],\n",
       " [6, 8.875],\n",
       " [1, 8.78571],\n",
       " [10, 8.25],\n",
       " [15, 8.10256],\n",
       " [21, 5.78723],\n",
       " [8, 4.85294],\n",
       " [2, 4.23333],\n",
       " [5, 3.05263]]"
      ]
     },
     "execution_count": 17,
     "metadata": {},
     "output_type": "execute_result"
    }
   ],
   "source": [
    "sorted_avg_comments_by_hour = sorted(avg_comments_by_hour,key = lambda lst:lst[1],\n",
    "                             reverse = True)\n",
    "sorted_avg_comments_by_hour"
   ]
  },
  {
   "cell_type": "code",
   "execution_count": 18,
   "metadata": {},
   "outputs": [
    {
     "name": "stdout",
     "output_type": "stream",
     "text": [
      "Ther are 15.77049 average comments at 18:00 Hours\n",
      "Ther are 15.70968 average comments at 00:00 Hours\n",
      "Ther are 13.44186 average comments at 14:00 Hours\n",
      "Ther are 12.41667 average comments at 23:00 Hours\n",
      "Ther are 12.3913 average comments at 22:00 Hours\n"
     ]
    }
   ],
   "source": [
    "for hours,comment in sorted_avg_comments_by_hour[:5]:\n",
    "    hours = dt.datetime.strptime(str(hours),\"%H\")\n",
    "    hours = hours.strftime(\"%H:%M\")\n",
    "    print(f\"Ther are {comment} average comments at {hours} Hours\")"
   ]
  },
  {
   "cell_type": "code",
   "execution_count": null,
   "metadata": {},
   "outputs": [],
   "source": []
  },
  {
   "cell_type": "code",
   "execution_count": null,
   "metadata": {},
   "outputs": [],
   "source": [
    " "
   ]
  }
 ],
 "metadata": {
  "kernelspec": {
   "display_name": "Python 3",
   "language": "python",
   "name": "python3"
  },
  "language_info": {
   "codemirror_mode": {
    "name": "ipython",
    "version": 3
   },
   "file_extension": ".py",
   "mimetype": "text/x-python",
   "name": "python",
   "nbconvert_exporter": "python",
   "pygments_lexer": "ipython3",
   "version": "3.7.4"
  }
 },
 "nbformat": 4,
 "nbformat_minor": 2
}
